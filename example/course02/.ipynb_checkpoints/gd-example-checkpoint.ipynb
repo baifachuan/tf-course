{
 "cells": [
  {
   "cell_type": "code",
   "execution_count": 2,
   "metadata": {
    "collapsed": false
   },
   "outputs": [],
   "source": [
    "def gd(x_start, step, g):   # gd代表了Gradient Descent\n",
    "    x = x_start\n",
    "    for i in range(20):\n",
    "        grad = g(x)\n",
    "        x -= grad * step\n",
    "        print('[ Epoch {0} ] grad = {1}, x = {2}'.format(i, grad, x))\n",
    "        if abs(grad) < 1e-6:\n",
    "            break;\n",
    "    return x\n",
    "\n",
    "def f(x):\n",
    "    return x * x - 2 * x + 1\n",
    "\n",
    "def g(x):\n",
    "    return 2 * x - 2"
   ]
  },
  {
   "cell_type": "code",
   "execution_count": 3,
   "metadata": {
    "collapsed": false
   },
   "outputs": [
    {
     "name": "stderr",
     "output_type": "stream",
     "text": [
      "/Users/twcn/.pyenv/versions/3.5.1/lib/python3.5/site-packages/matplotlib/axes/_axes.py:519: UserWarning: No labelled objects found. Use label='...' kwarg on individual plots.\n",
      "  warnings.warn(\"No labelled objects found. \"\n"
     ]
    },
    {
     "ename": "SystemExit",
     "evalue": "0",
     "output_type": "error",
     "traceback": [
      "An exception has occurred, use %tb to see the full traceback.\n",
      "\u001b[0;31mSystemExit\u001b[0m\u001b[0;31m:\u001b[0m 0\n"
     ]
    },
    {
     "name": "stderr",
     "output_type": "stream",
     "text": [
      "To exit: use 'exit', 'quit', or Ctrl-D.\n"
     ]
    }
   ],
   "source": [
    "import numpy as np\n",
    "import matplotlib.pyplot as plt\n",
    "x = np.linspace(-5,7,100)\n",
    "y = f(x)\n",
    "plt.plot(x, y)\n",
    "plt.legend()\n",
    "plt.show()"
   ]
  },
  {
   "cell_type": "code",
   "execution_count": 6,
   "metadata": {
    "collapsed": false
   },
   "outputs": [
    {
     "name": "stdout",
     "output_type": "stream",
     "text": [
      "[ Epoch 0 ] grad = 8, x = 4.2\n",
      "[ Epoch 1 ] grad = 6.4, x = 3.56\n",
      "[ Epoch 2 ] grad = 5.12, x = 3.048\n",
      "[ Epoch 3 ] grad = 4.096, x = 2.6384\n",
      "[ Epoch 4 ] grad = 3.2767999999999997, x = 2.31072\n",
      "[ Epoch 5 ] grad = 2.6214399999999998, x = 2.0485759999999997\n",
      "[ Epoch 6 ] grad = 2.0971519999999995, x = 1.8388607999999997\n",
      "[ Epoch 7 ] grad = 1.6777215999999995, x = 1.6710886399999998\n",
      "[ Epoch 8 ] grad = 1.3421772799999996, x = 1.536870912\n",
      "[ Epoch 9 ] grad = 1.0737418239999998, x = 1.4294967295999998\n",
      "[ Epoch 10 ] grad = 0.8589934591999997, x = 1.34359738368\n",
      "[ Epoch 11 ] grad = 0.6871947673599998, x = 1.274877906944\n",
      "[ Epoch 12 ] grad = 0.5497558138879999, x = 1.2199023255552\n",
      "[ Epoch 13 ] grad = 0.4398046511103999, x = 1.17592186044416\n",
      "[ Epoch 14 ] grad = 0.35184372088831983, x = 1.1407374883553278\n",
      "[ Epoch 15 ] grad = 0.2814749767106557, x = 1.1125899906842622\n",
      "[ Epoch 16 ] grad = 0.22517998136852446, x = 1.0900719925474098\n",
      "[ Epoch 17 ] grad = 0.18014398509481966, x = 1.0720575940379278\n",
      "[ Epoch 18 ] grad = 0.14411518807585555, x = 1.0576460752303423\n",
      "[ Epoch 19 ] grad = 0.11529215046068453, x = 1.0461168601842739\n"
     ]
    },
    {
     "data": {
      "text/plain": [
       "1.0461168601842739"
      ]
     },
     "execution_count": 6,
     "metadata": {},
     "output_type": "execute_result"
    }
   ],
   "source": [
    "gd(5,0.1,g)"
   ]
  },
  {
   "cell_type": "code",
   "execution_count": 7,
   "metadata": {
    "collapsed": false
   },
   "outputs": [
    {
     "name": "stdout",
     "output_type": "stream",
     "text": [
      "[ Epoch 0 ] grad = 8, x = -795\n",
      "[ Epoch 1 ] grad = -1592, x = 158405\n",
      "[ Epoch 2 ] grad = 316808, x = -31522395\n",
      "[ Epoch 3 ] grad = -63044792, x = 6272956805\n",
      "[ Epoch 4 ] grad = 12545913608, x = -1248318403995\n",
      "[ Epoch 5 ] grad = -2496636807992, x = 248415362395205\n",
      "[ Epoch 6 ] grad = 496830724790408, x = -49434657116645595\n",
      "[ Epoch 7 ] grad = -98869314233291192, x = 9837496766212473605\n",
      "[ Epoch 8 ] grad = 19674993532424947208, x = -1957661856476282247195\n",
      "[ Epoch 9 ] grad = -3915323712952564494392, x = 389574709438780167192005\n",
      "[ Epoch 10 ] grad = 779149418877560334384008, x = -77525367178317253271208795\n",
      "[ Epoch 11 ] grad = -155050734356634506542417592, x = 15427548068485133400970550405\n",
      "[ Epoch 12 ] grad = 30855096136970266801941100808, x = -3070082065628541546793139530395\n",
      "[ Epoch 13 ] grad = -6140164131257083093586279060792, x = 610946331060079767811834766548805\n",
      "[ Epoch 14 ] grad = 1221892662120159535623669533097608, x = -121578319880955873794555118543211995\n",
      "[ Epoch 15 ] grad = -243156639761911747589110237086423992, x = 24194085656310218885116468590099187205\n",
      "[ Epoch 16 ] grad = 48388171312620437770232937180198374408, x = -4814623045605733558138177249429738253595\n",
      "[ Epoch 17 ] grad = -9629246091211467116276354498859476507192, x = 958109986075540978069497272636517912465605\n",
      "[ Epoch 18 ] grad = 1916219972151081956138994545273035824931208, x = -190663887229032654635829957254667064580655195\n",
      "[ Epoch 19 ] grad = -381327774458065309271659914509334129161310392, x = 37942113558577498272530161493678745851550384005\n"
     ]
    },
    {
     "data": {
      "text/plain": [
       "37942113558577498272530161493678745851550384005"
      ]
     },
     "execution_count": 7,
     "metadata": {},
     "output_type": "execute_result"
    }
   ],
   "source": [
    "gd(5,100,g)"
   ]
  },
  {
   "cell_type": "code",
   "execution_count": null,
   "metadata": {
    "collapsed": true
   },
   "outputs": [],
   "source": []
  }
 ],
 "metadata": {
  "kernelspec": {
   "display_name": "Python 3",
   "language": "python",
   "name": "python3"
  },
  "language_info": {
   "codemirror_mode": {
    "name": "ipython",
    "version": 3
   },
   "file_extension": ".py",
   "mimetype": "text/x-python",
   "name": "python",
   "nbconvert_exporter": "python",
   "pygments_lexer": "ipython3",
   "version": "3.5.1"
  }
 },
 "nbformat": 4,
 "nbformat_minor": 0
}
