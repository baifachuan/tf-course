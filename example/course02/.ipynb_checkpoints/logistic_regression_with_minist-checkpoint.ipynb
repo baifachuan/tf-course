{
 "cells": [
  {
   "cell_type": "code",
   "execution_count": 2,
   "metadata": {
    "collapsed": false
   },
   "outputs": [
    {
     "name": "stdout",
     "output_type": "stream",
     "text": [
      "Extracting ../data/mnsit/train-images-idx3-ubyte.gz\n",
      "Extracting ../data/mnsit/train-labels-idx1-ubyte.gz\n",
      "Extracting ../data/mnsit/t10k-images-idx3-ubyte.gz\n",
      "Extracting ../data/mnsit/t10k-labels-idx1-ubyte.gz\n",
      "Epoch: 0001 cost= 1.182138977\n",
      "Epoch: 0002 cost= 0.664810898\n",
      "Epoch: 0003 cost= 0.552636852\n",
      "Epoch: 0004 cost= 0.498549734\n",
      "Epoch: 0005 cost= 0.465446047\n",
      "Epoch: 0006 cost= 0.442555381\n",
      "Epoch: 0007 cost= 0.425422850\n",
      "Epoch: 0008 cost= 0.412116566\n",
      "Epoch: 0009 cost= 0.401406500\n",
      "Epoch: 0010 cost= 0.392386987\n",
      "Epoch: 0011 cost= 0.384718228\n",
      "Epoch: 0012 cost= 0.378177124\n",
      "Epoch: 0013 cost= 0.372360338\n",
      "Epoch: 0014 cost= 0.367326821\n",
      "Epoch: 0015 cost= 0.362710472\n",
      "Epoch: 0016 cost= 0.358569463\n",
      "Epoch: 0017 cost= 0.354836964\n",
      "Epoch: 0018 cost= 0.351453699\n",
      "Epoch: 0019 cost= 0.348307046\n",
      "Epoch: 0020 cost= 0.345400758\n",
      "Epoch: 0021 cost= 0.342731618\n",
      "Epoch: 0022 cost= 0.340233734\n",
      "Epoch: 0023 cost= 0.337926900\n",
      "Epoch: 0024 cost= 0.335744199\n",
      "Epoch: 0025 cost= 0.333677886\n",
      "Optimization Finished!\n",
      "Accuracy: 0.9136\n"
     ]
    }
   ],
   "source": [
    "from __future__ import print_function\n",
    "\n",
    "import tensorflow as tf\n",
    "\n",
    "# Import MNIST data\n",
    "from tensorflow.examples.tutorials.mnist import input_data\n",
    "mnist = input_data.read_data_sets(\"../data/mnsit\", one_hot=True)\n",
    "\n",
    "# Parameters\n",
    "learning_rate = 0.01\n",
    "training_epochs = 25\n",
    "batch_size = 100\n",
    "display_step = 1\n",
    "\n",
    "# tf Graph Input\n",
    "x = tf.placeholder(tf.float32, [None, 784]) # mnist data image of shape 28*28=784\n",
    "y = tf.placeholder(tf.float32, [None, 10]) # 0-9 digits recognition => 10 classes\n",
    "\n",
    "# Set model weights\n",
    "W = tf.Variable(tf.zeros([784, 10]))\n",
    "b = tf.Variable(tf.zeros([10]))\n",
    "\n",
    "# Construct model\n",
    "pred = tf.nn.softmax(tf.matmul(x, W) + b) # Softmax\n",
    "\n",
    "# Minimize error using cross entropy\n",
    "cost = tf.reduce_mean(-tf.reduce_sum(y*tf.log(pred), reduction_indices=1))\n",
    "# Gradient Descent\n",
    "optimizer = tf.train.GradientDescentOptimizer(learning_rate).minimize(cost)\n",
    "\n",
    "# Initializing the variables\n",
    "init = tf.global_variables_initializer()\n",
    "\n",
    "# Launch the graph\n",
    "with tf.Session() as sess:\n",
    "    sess.run(init)\n",
    "\n",
    "    # Training cycle\n",
    "    for epoch in range(training_epochs):\n",
    "        avg_cost = 0.\n",
    "        total_batch = int(mnist.train.num_examples/batch_size)\n",
    "        # Loop over all batches\n",
    "        for i in range(total_batch):\n",
    "            batch_xs, batch_ys = mnist.train.next_batch(batch_size)\n",
    "            # Run optimization op (backprop) and cost op (to get loss value)\n",
    "            _, c = sess.run([optimizer, cost], feed_dict={x: batch_xs,\n",
    "                                                          y: batch_ys})\n",
    "            # Compute average loss\n",
    "            avg_cost += c / total_batch\n",
    "        # Display logs per epoch step\n",
    "        if (epoch+1) % display_step == 0:\n",
    "            print(\"Epoch:\", '%04d' % (epoch+1), \"cost=\", \"{:.9f}\".format(avg_cost))\n",
    "\n",
    "    print(\"Optimization Finished!\")\n",
    "\n",
    "    # Test model\n",
    "    correct_prediction = tf.equal(tf.argmax(pred, 1), tf.argmax(y, 1))\n",
    "    # Calculate accuracy\n",
    "    accuracy = tf.reduce_mean(tf.cast(correct_prediction, tf.float32))\n",
    "    print(\"Accuracy:\", accuracy.eval({x: mnist.test.images, y: mnist.test.labels}))"
   ]
  },
  {
   "cell_type": "code",
   "execution_count": null,
   "metadata": {
    "collapsed": true
   },
   "outputs": [],
   "source": []
  }
 ],
 "metadata": {
  "kernelspec": {
   "display_name": "Python 3",
   "language": "python",
   "name": "python3"
  },
  "language_info": {
   "codemirror_mode": {
    "name": "ipython",
    "version": 3
   },
   "file_extension": ".py",
   "mimetype": "text/x-python",
   "name": "python",
   "nbconvert_exporter": "python",
   "pygments_lexer": "ipython3",
   "version": "3.5.1"
  }
 },
 "nbformat": 4,
 "nbformat_minor": 0
}
