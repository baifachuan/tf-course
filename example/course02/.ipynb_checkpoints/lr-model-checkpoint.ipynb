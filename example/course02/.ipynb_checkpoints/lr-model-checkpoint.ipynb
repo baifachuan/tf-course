{
 "cells": [
  {
   "cell_type": "markdown",
   "metadata": {},
   "source": [
    "# 线性回归模型"
   ]
  },
  {
   "cell_type": "code",
   "execution_count": 1,
   "metadata": {
    "collapsed": true
   },
   "outputs": [],
   "source": [
    "\n",
    "# Y = W * X + B\n",
    "\n",
    "\n",
    "from __future__ import print_function\n",
    "\n",
    "import tensorflow as tf\n",
    "import numpy\n",
    "import matplotlib.pyplot as plt\n",
    "\n",
    "rng = numpy.random\n",
    "\n",
    "# Parameters\n",
    "learning_rate = 0.01\n",
    "training_epochs = 1000\n",
    "display_step = 50\n"
   ]
  },
  {
   "cell_type": "code",
   "execution_count": 2,
   "metadata": {
    "collapsed": false
   },
   "outputs": [
    {
     "data": {
      "image/png": "[encoded data removed]",
      "text/plain": [
       "<matplotlib.figure.Figure at 0x11903a358>"
      ]
     },
     "metadata": {},
     "output_type": "display_data"
    }
   ],
   "source": [
    "# Training Data\n",
    "train_X = numpy.asarray([3.3, 4.4, 5.5, 6.71, 6.93, 4.168, 9.779, 6.182, 7.59, 2.167,\n",
    "                         7.042, 10.791, 5.313, 7.997, 5.654, 9.27, 3.1])\n",
    "train_Y = numpy.asarray([1.7, 2.76, 2.09, 3.19, 1.694, 1.573, 3.366, 2.596, 2.53, 1.221,\n",
    "                         2.827, 3.465, 1.65, 2.904, 2.42, 2.94, 1.3])\n",
    "%matplotlib inline\n",
    "plt.plot(train_X, train_Y, 'ro', label='Original data')\n",
    "\n",
    "\n",
    "test_X = numpy.asarray([6.83, 4.668, 8.9, 7.91, 5.7, 8.7, 3.1, 2.1])\n",
    "test_Y = numpy.asarray([1.84, 2.273, 3.2, 2.831, 2.92, 3.24, 1.35, 1.03])\n"
   ]
  },
  {
   "cell_type": "code",
   "execution_count": 3,
   "metadata": {
    "collapsed": true
   },
   "outputs": [],
   "source": [
    "n_samples = train_X.shape[0]\n",
    "\n",
    "# tf Graph Input\n",
    "X = tf.placeholder(\"float\")\n",
    "Y = tf.placeholder(\"float\")\n",
    "\n",
    "# Set model weights\n",
    "W = tf.Variable(rng.randn(), name=\"weight\")\n",
    "b = tf.Variable(rng.randn(), name=\"bias\")\n",
    "\n",
    "# Construct a linear model y = X * W + b\n",
    "pred = tf.add(tf.multiply(X, W), b)\n",
    "\n",
    "# Mean squared error\n",
    "cost = tf.reduce_sum(tf.pow(pred - Y, 2)) / (n_samples)\n",
    "tf.summary.scalar('cost', cost)\n",
    "# Gradient descent\n",
    "optimizer = tf.train.GradientDescentOptimizer(learning_rate).minimize(cost)\n",
    "\n",
    "# Initializing the variables\n",
    "init = tf.global_variables_initializer()"
   ]
  },
  {
   "cell_type": "code",
   "execution_count": 4,
   "metadata": {
    "collapsed": false
   },
   "outputs": [
    {
     "name": "stdout",
     "output_type": "stream",
     "text": [
      "Epoch: 0050 cost= 0.503354788 W= 0.477692 b= -0.87269\n",
      "Epoch: 0100 cost= 0.426774591 W= 0.450912 b= -0.677505\n",
      "Epoch: 0150 cost= 0.366992384 W= 0.427251 b= -0.505044\n",
      "Epoch: 0200 cost= 0.320324391 W= 0.406343 b= -0.352661\n",
      "Epoch: 0250 cost= 0.283894032 W= 0.38787 b= -0.218019\n",
      "Epoch: 0300 cost= 0.255455911 W= 0.371548 b= -0.0990525\n",
      "Epoch: 0350 cost= 0.233257055 W= 0.357126 b= 0.0060641\n",
      "Epoch: 0400 cost= 0.215928838 W= 0.344383 b= 0.0989427\n",
      "Epoch: 0450 cost= 0.202402875 W= 0.333123 b= 0.181008\n",
      "Epoch: 0500 cost= 0.191845134 W= 0.323175 b= 0.25352\n",
      "Epoch: 0550 cost= 0.183604330 W= 0.314384 b= 0.31759\n",
      "Epoch: 0600 cost= 0.177172437 W= 0.306617 b= 0.3742\n",
      "Epoch: 0650 cost= 0.172152400 W= 0.299754 b= 0.42422\n",
      "Epoch: 0700 cost= 0.168234468 W= 0.293691 b= 0.468416\n",
      "Epoch: 0750 cost= 0.165176868 W= 0.288333 b= 0.507467\n",
      "Epoch: 0800 cost= 0.162790745 W= 0.283599 b= 0.541971\n",
      "Epoch: 0850 cost= 0.160928756 W= 0.279416 b= 0.572459\n",
      "Epoch: 0900 cost= 0.159475788 W= 0.27572 b= 0.599398\n",
      "Epoch: 0950 cost= 0.158342272 W= 0.272454 b= 0.623199\n",
      "Epoch: 1000 cost= 0.157457873 W= 0.269569 b= 0.644229\n",
      "Optimization Finished!\n",
      "Training cost= 0.157458 W= 0.269569 b= 0.644229 \n",
      "\n",
      "Testing... (Mean square loss Comparison)\n",
      "Testing cost= 0.0774898\n",
      "Absolute mean square loss difference: 0.0799681\n"
     ]
    },
    {
     "data": {
      "image/png": "[encoded data removed]",
      "text/plain": [
       "<matplotlib.figure.Figure at 0x10f9395f8>"
      ]
     },
     "metadata": {},
     "output_type": "display_data"
    }
   ],
   "source": [
    "# Launch the graph\n",
    "with tf.Session() as sess:\n",
    "    sess.run(init)\n",
    "    writer = tf.summary.FileWriter('./my_graph/03/linear_reg', sess.graph)\n",
    "    # Fit all training data\n",
    "    \n",
    "    for epoch in range(training_epochs):\n",
    "        for (x, y) in zip(train_X, train_Y):\n",
    "            sess.run(optimizer, feed_dict={X: x, Y: y})\n",
    "\n",
    "        # Display logs per epoch step\n",
    "        if (epoch + 1) % display_step == 0:\n",
    "            c = sess.run(cost, feed_dict={X: train_X, Y: train_Y})\n",
    "            print(\"Epoch:\", '%04d' % (epoch + 1), \"cost=\", \"{:.9f}\".format(c), \\\n",
    "                  \"W=\", sess.run(W), \"b=\", sess.run(b))\n",
    "\n",
    "    print(\"Optimization Finished!\")\n",
    "    training_cost = sess.run(cost, feed_dict={X: train_X, Y: train_Y})\n",
    "    print(\"Training cost=\", training_cost, \"W=\", sess.run(W), \"b=\", sess.run(b), '\\n')\n",
    "    %matplotlib inline\n",
    "    # Graphic display\n",
    "    plt.plot(train_X, train_Y, 'ro', label='Original data')\n",
    "    plt.plot(train_X, sess.run(W) * train_X + sess.run(b), label='Fitted line')\n",
    "    # Testing example, as requested (Issue #2)\n",
    "    \n",
    "    print(\"Testing... (Mean square loss Comparison)\")\n",
    "    testing_cost = sess.run(\n",
    "        tf.reduce_sum(tf.pow(pred - Y, 2)) / (2 * test_X.shape[0]),\n",
    "        feed_dict={X: test_X, Y: test_Y})  # same function as cost above\n",
    "    print(\"Testing cost=\", testing_cost)\n",
    "    print(\"Absolute mean square loss difference:\", abs(\n",
    "        training_cost - testing_cost))"
   ]
  },
  {
   "cell_type": "code",
   "execution_count": null,
   "metadata": {
    "collapsed": true
   },
   "outputs": [],
   "source": []
  }
 ],
 "metadata": {
  "kernelspec": {
   "display_name": "Python 3",
   "language": "python",
   "name": "python3"
  },
  "language_info": {
   "codemirror_mode": {
    "name": "ipython",
    "version": 3
   },
   "file_extension": ".py",
   "mimetype": "text/x-python",
   "name": "python",
   "nbconvert_exporter": "python",
   "pygments_lexer": "ipython3",
   "version": "3.5.1"
  }
 },
 "nbformat": 4,
 "nbformat_minor": 0
}
