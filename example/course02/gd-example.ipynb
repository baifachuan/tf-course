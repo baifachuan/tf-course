{
 "cells": [
  {
   "cell_type": "code",
   "execution_count": 2,
   "metadata": {
    "collapsed": false
   },
   "outputs": [],
   "source": [
    "import numpy as np\n",
    "import matplotlib.pyplot as plt"
   ]
  },
  {
   "cell_type": "code",
   "execution_count": 3,
   "metadata": {
    "collapsed": false
   },
   "outputs": [],
   "source": [
    "def f(x):\n",
    "    return x * x - 2 * x + 1\n",
    "\n",
    "def g(x):\n",
    "    return 2 * x - 2\n",
    "\n",
    "x = np.linspace(-5,7,100)\n",
    "y = f(x)"
   ]
  },
  {
   "cell_type": "code",
   "execution_count": 4,
   "metadata": {
    "collapsed": false
   },
   "outputs": [
    {
     "name": "stdout",
     "output_type": "stream",
     "text": [
      "[-5.         -4.87878788 -4.75757576 -4.63636364 -4.51515152 -4.39393939\n",
      " -4.27272727 -4.15151515 -4.03030303 -3.90909091 -3.78787879 -3.66666667\n",
      " -3.54545455 -3.42424242 -3.3030303  -3.18181818 -3.06060606 -2.93939394\n",
      " -2.81818182 -2.6969697  -2.57575758 -2.45454545 -2.33333333 -2.21212121\n",
      " -2.09090909 -1.96969697 -1.84848485 -1.72727273 -1.60606061 -1.48484848\n",
      " -1.36363636 -1.24242424 -1.12121212 -1.         -0.87878788 -0.75757576\n",
      " -0.63636364 -0.51515152 -0.39393939 -0.27272727 -0.15151515 -0.03030303\n",
      "  0.09090909  0.21212121  0.33333333  0.45454545  0.57575758  0.6969697\n",
      "  0.81818182  0.93939394  1.06060606  1.18181818  1.3030303   1.42424242\n",
      "  1.54545455  1.66666667  1.78787879  1.90909091  2.03030303  2.15151515\n",
      "  2.27272727  2.39393939  2.51515152  2.63636364  2.75757576  2.87878788\n",
      "  3.          3.12121212  3.24242424  3.36363636  3.48484848  3.60606061\n",
      "  3.72727273  3.84848485  3.96969697  4.09090909  4.21212121  4.33333333\n",
      "  4.45454545  4.57575758  4.6969697   4.81818182  4.93939394  5.06060606\n",
      "  5.18181818  5.3030303   5.42424242  5.54545455  5.66666667  5.78787879\n",
      "  5.90909091  6.03030303  6.15151515  6.27272727  6.39393939  6.51515152\n",
      "  6.63636364  6.75757576  6.87878788  7.        ]\n"
     ]
    }
   ],
   "source": [
    "print(x)"
   ]
  },
  {
   "cell_type": "code",
   "execution_count": 4,
   "metadata": {
    "collapsed": false
   },
   "outputs": [
    {
     "name": "stdout",
     "output_type": "stream",
     "text": [
      "[  3.60000000e+01   3.45601469e+01   3.31496786e+01   3.17685950e+01\n",
      "   3.04168962e+01   2.90945822e+01   2.78016529e+01   2.65381084e+01\n",
      "   2.53039486e+01   2.40991736e+01   2.29237833e+01   2.17777778e+01\n",
      "   2.06611570e+01   1.95739210e+01   1.85160698e+01   1.74876033e+01\n",
      "   1.64885216e+01   1.55188246e+01   1.45785124e+01   1.36675849e+01\n",
      "   1.27860422e+01   1.19338843e+01   1.11111111e+01   1.03177227e+01\n",
      "   9.55371901e+00   8.81910009e+00   8.11386593e+00   7.43801653e+00\n",
      "   6.79155188e+00   6.17447199e+00   5.58677686e+00   5.02846648e+00\n",
      "   4.49954086e+00   4.00000000e+00   3.52984389e+00   3.08907254e+00\n",
      "   2.67768595e+00   2.29568411e+00   1.94306703e+00   1.61983471e+00\n",
      "   1.32598714e+00   1.06152433e+00   8.26446281e-01   6.20752984e-01\n",
      "   4.44444444e-01   2.97520661e-01   1.79981635e-01   9.18273646e-02\n",
      "   3.30578512e-02   3.67309458e-03   3.67309458e-03   3.30578512e-02\n",
      "   9.18273646e-02   1.79981635e-01   2.97520661e-01   4.44444444e-01\n",
      "   6.20752984e-01   8.26446281e-01   1.06152433e+00   1.32598714e+00\n",
      "   1.61983471e+00   1.94306703e+00   2.29568411e+00   2.67768595e+00\n",
      "   3.08907254e+00   3.52984389e+00   4.00000000e+00   4.49954086e+00\n",
      "   5.02846648e+00   5.58677686e+00   6.17447199e+00   6.79155188e+00\n",
      "   7.43801653e+00   8.11386593e+00   8.81910009e+00   9.55371901e+00\n",
      "   1.03177227e+01   1.11111111e+01   1.19338843e+01   1.27860422e+01\n",
      "   1.36675849e+01   1.45785124e+01   1.55188246e+01   1.64885216e+01\n",
      "   1.74876033e+01   1.85160698e+01   1.95739210e+01   2.06611570e+01\n",
      "   2.17777778e+01   2.29237833e+01   2.40991736e+01   2.53039486e+01\n",
      "   2.65381084e+01   2.78016529e+01   2.90945822e+01   3.04168962e+01\n",
      "   3.17685950e+01   3.31496786e+01   3.45601469e+01   3.60000000e+01]\n"
     ]
    }
   ],
   "source": [
    "print(y)"
   ]
  },
  {
   "cell_type": "code",
   "execution_count": 5,
   "metadata": {
    "collapsed": false
   },
   "outputs": [
    {
     "data": {
      "text/plain": [
       "[<matplotlib.lines.Line2D at 0x10cc927f0>]"
      ]
     },
     "execution_count": 5,
     "metadata": {},
     "output_type": "execute_result"
    },
    {
     "data": {
      "image/png": "[encoded data removed]",
      "text/plain": [
       "<matplotlib.figure.Figure at 0x10b8ffb00>"
      ]
     },
     "metadata": {},
     "output_type": "display_data"
    }
   ],
   "source": [
    "%matplotlib inline\n",
    "plt.plot(x, y)\n"
   ]
  },
  {
   "cell_type": "code",
   "execution_count": 6,
   "metadata": {
    "collapsed": false
   },
   "outputs": [
    {
     "name": "stdout",
     "output_type": "stream",
     "text": [
      "[ Epoch 0 ] grad = 8, x = 4.2\n",
      "[ Epoch 1 ] grad = 6.4, x = 3.56\n",
      "[ Epoch 2 ] grad = 5.12, x = 3.048\n",
      "[ Epoch 3 ] grad = 4.096, x = 2.6384\n",
      "[ Epoch 4 ] grad = 3.2767999999999997, x = 2.31072\n",
      "[ Epoch 5 ] grad = 2.6214399999999998, x = 2.0485759999999997\n",
      "[ Epoch 6 ] grad = 2.0971519999999995, x = 1.8388607999999997\n",
      "[ Epoch 7 ] grad = 1.6777215999999995, x = 1.6710886399999998\n",
      "[ Epoch 8 ] grad = 1.3421772799999996, x = 1.536870912\n",
      "[ Epoch 9 ] grad = 1.0737418239999998, x = 1.4294967295999998\n",
      "[ Epoch 10 ] grad = 0.8589934591999997, x = 1.34359738368\n",
      "[ Epoch 11 ] grad = 0.6871947673599998, x = 1.274877906944\n",
      "[ Epoch 12 ] grad = 0.5497558138879999, x = 1.2199023255552\n",
      "[ Epoch 13 ] grad = 0.4398046511103999, x = 1.17592186044416\n",
      "[ Epoch 14 ] grad = 0.35184372088831983, x = 1.1407374883553278\n",
      "[ Epoch 15 ] grad = 0.2814749767106557, x = 1.1125899906842622\n",
      "[ Epoch 16 ] grad = 0.22517998136852446, x = 1.0900719925474098\n",
      "[ Epoch 17 ] grad = 0.18014398509481966, x = 1.0720575940379278\n",
      "[ Epoch 18 ] grad = 0.14411518807585555, x = 1.0576460752303423\n",
      "[ Epoch 19 ] grad = 0.11529215046068453, x = 1.0461168601842739\n"
     ]
    },
    {
     "data": {
      "text/plain": [
       "1.0461168601842739"
      ]
     },
     "execution_count": 6,
     "metadata": {},
     "output_type": "execute_result"
    }
   ],
   "source": [
    "def gd(x_start, step, g):   # gd代表了Gradient Descent\n",
    "    x = x_start\n",
    "    for i in range(20):\n",
    "        grad = g(x)\n",
    "        x -= grad * step\n",
    "        print('[ Epoch {0} ] grad = {1}, x = {2}'.format(i, grad, x))\n",
    "        if abs(grad) < 1e-6:\n",
    "            break;\n",
    "    return x\n",
    "\n",
    "\n",
    "gd(5,0.1,g)"
   ]
  },
  {
   "cell_type": "code",
   "execution_count": 7,
   "metadata": {
    "collapsed": false
   },
   "outputs": [
    {
     "name": "stdout",
     "output_type": "stream",
     "text": [
      "[ Epoch 0 ] grad = 8, x = -795\n",
      "[ Epoch 1 ] grad = -1592, x = 158405\n",
      "[ Epoch 2 ] grad = 316808, x = -31522395\n",
      "[ Epoch 3 ] grad = -63044792, x = 6272956805\n",
      "[ Epoch 4 ] grad = 12545913608, x = -1248318403995\n",
      "[ Epoch 5 ] grad = -2496636807992, x = 248415362395205\n",
      "[ Epoch 6 ] grad = 496830724790408, x = -49434657116645595\n",
      "[ Epoch 7 ] grad = -98869314233291192, x = 9837496766212473605\n",
      "[ Epoch 8 ] grad = 19674993532424947208, x = -1957661856476282247195\n",
      "[ Epoch 9 ] grad = -3915323712952564494392, x = 389574709438780167192005\n",
      "[ Epoch 10 ] grad = 779149418877560334384008, x = -77525367178317253271208795\n",
      "[ Epoch 11 ] grad = -155050734356634506542417592, x = 15427548068485133400970550405\n",
      "[ Epoch 12 ] grad = 30855096136970266801941100808, x = -3070082065628541546793139530395\n",
      "[ Epoch 13 ] grad = -6140164131257083093586279060792, x = 610946331060079767811834766548805\n",
      "[ Epoch 14 ] grad = 1221892662120159535623669533097608, x = -121578319880955873794555118543211995\n",
      "[ Epoch 15 ] grad = -243156639761911747589110237086423992, x = 24194085656310218885116468590099187205\n",
      "[ Epoch 16 ] grad = 48388171312620437770232937180198374408, x = -4814623045605733558138177249429738253595\n",
      "[ Epoch 17 ] grad = -9629246091211467116276354498859476507192, x = 958109986075540978069497272636517912465605\n",
      "[ Epoch 18 ] grad = 1916219972151081956138994545273035824931208, x = -190663887229032654635829957254667064580655195\n",
      "[ Epoch 19 ] grad = -381327774458065309271659914509334129161310392, x = 37942113558577498272530161493678745851550384005\n"
     ]
    },
    {
     "data": {
      "text/plain": [
       "37942113558577498272530161493678745851550384005"
      ]
     },
     "execution_count": 7,
     "metadata": {},
     "output_type": "execute_result"
    }
   ],
   "source": [
    "gd(5,100,g)"
   ]
  },
  {
   "cell_type": "code",
   "execution_count": 8,
   "metadata": {
    "collapsed": false
   },
   "outputs": [
    {
     "name": "stdout",
     "output_type": "stream",
     "text": [
      "[ Epoch 0 ] grad = 6, x = -2\n",
      "[ Epoch 1 ] grad = -6, x = 4\n",
      "[ Epoch 2 ] grad = 6, x = -2\n",
      "[ Epoch 3 ] grad = -6, x = 4\n",
      "[ Epoch 4 ] grad = 6, x = -2\n",
      "[ Epoch 5 ] grad = -6, x = 4\n",
      "[ Epoch 6 ] grad = 6, x = -2\n",
      "[ Epoch 7 ] grad = -6, x = 4\n",
      "[ Epoch 8 ] grad = 6, x = -2\n",
      "[ Epoch 9 ] grad = -6, x = 4\n",
      "[ Epoch 10 ] grad = 6, x = -2\n",
      "[ Epoch 11 ] grad = -6, x = 4\n",
      "[ Epoch 12 ] grad = 6, x = -2\n",
      "[ Epoch 13 ] grad = -6, x = 4\n",
      "[ Epoch 14 ] grad = 6, x = -2\n",
      "[ Epoch 15 ] grad = -6, x = 4\n",
      "[ Epoch 16 ] grad = 6, x = -2\n",
      "[ Epoch 17 ] grad = -6, x = 4\n",
      "[ Epoch 18 ] grad = 6, x = -2\n",
      "[ Epoch 19 ] grad = -6, x = 4\n"
     ]
    },
    {
     "data": {
      "text/plain": [
       "4"
      ]
     },
     "execution_count": 8,
     "metadata": {},
     "output_type": "execute_result"
    }
   ],
   "source": [
    "gd(4,1,g)"
   ]
  },
  {
   "cell_type": "code",
   "execution_count": 11,
   "metadata": {
    "collapsed": false
   },
   "outputs": [
    {
     "name": "stdout",
     "output_type": "stream",
     "text": [
      "[ Epoch 0 ] grad = 36, x = -4.0\n",
      "[ Epoch 1 ] grad = -36.0, x = 5.0\n",
      "[ Epoch 2 ] grad = 36.0, x = -4.0\n",
      "[ Epoch 3 ] grad = -36.0, x = 5.0\n",
      "[ Epoch 4 ] grad = 36.0, x = -4.0\n",
      "[ Epoch 5 ] grad = -36.0, x = 5.0\n",
      "[ Epoch 6 ] grad = 36.0, x = -4.0\n",
      "[ Epoch 7 ] grad = -36.0, x = 5.0\n",
      "[ Epoch 8 ] grad = 36.0, x = -4.0\n",
      "[ Epoch 9 ] grad = -36.0, x = 5.0\n",
      "[ Epoch 10 ] grad = 36.0, x = -4.0\n",
      "[ Epoch 11 ] grad = -36.0, x = 5.0\n",
      "[ Epoch 12 ] grad = 36.0, x = -4.0\n",
      "[ Epoch 13 ] grad = -36.0, x = 5.0\n",
      "[ Epoch 14 ] grad = 36.0, x = -4.0\n",
      "[ Epoch 15 ] grad = -36.0, x = 5.0\n",
      "[ Epoch 16 ] grad = 36.0, x = -4.0\n",
      "[ Epoch 17 ] grad = -36.0, x = 5.0\n",
      "[ Epoch 18 ] grad = 36.0, x = -4.0\n",
      "[ Epoch 19 ] grad = -36.0, x = 5.0\n"
     ]
    },
    {
     "data": {
      "text/plain": [
       "5.0"
      ]
     },
     "execution_count": 11,
     "metadata": {},
     "output_type": "execute_result"
    }
   ],
   "source": [
    "def f2(x):\n",
    "    return 4 * x * x - 4 * x + 1\n",
    "def g2(x):\n",
    "    return 8 * x -4\n",
    "gd(5,0.25,g2)"
   ]
  },
  {
   "cell_type": "code",
   "execution_count": null,
   "metadata": {
    "collapsed": true
   },
   "outputs": [],
   "source": []
  }
 ],
 "metadata": {
  "kernelspec": {
   "display_name": "Python 3",
   "language": "python",
   "name": "python3"
  },
  "language_info": {
   "codemirror_mode": {
    "name": "ipython",
    "version": 3
   },
   "file_extension": ".py",
   "mimetype": "text/x-python",
   "name": "python",
   "nbconvert_exporter": "python",
   "pygments_lexer": "ipython3",
   "version": "3.5.1"
  }
 },
 "nbformat": 4,
 "nbformat_minor": 0
}
